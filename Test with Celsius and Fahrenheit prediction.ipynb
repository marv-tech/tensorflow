{
  "nbformat": 4,
  "nbformat_minor": 0,
  "metadata": {
    "colab": {
      "name": "Test.ipynb",
      "provenance": [],
      "authorship_tag": "ABX9TyNbVOom1vlM2hVj9DuvJNI4",
      "include_colab_link": true
    },
    "kernelspec": {
      "name": "python3",
      "display_name": "Python 3"
    },
    "language_info": {
      "name": "python"
    }
  },
  "cells": [
    {
      "cell_type": "markdown",
      "metadata": {
        "id": "view-in-github",
        "colab_type": "text"
      },
      "source": [
        "<a href=\"https://colab.research.google.com/github/marv-tech/tensorflow/blob/master/Test%20with%20Celsius%20and%20Fahrenheit%20prediction.ipynb\" target=\"_parent\"><img src=\"https://colab.research.google.com/assets/colab-badge.svg\" alt=\"Open In Colab\"/></a>"
      ]
    },
    {
      "cell_type": "code",
      "metadata": {
        "id": "tgwJYp_7TmOm"
      },
      "source": [
        "import tensorflow as tf\n",
        "import numpy as np"
      ],
      "execution_count": 5,
      "outputs": []
    },
    {
      "cell_type": "code",
      "metadata": {
        "colab": {
          "base_uri": "https://localhost:8080/"
        },
        "id": "NTi1kFPnWkF0",
        "outputId": "4c946aec-3dd6-4ba1-e6c3-345005222a49"
      },
      "source": [
        "celsius_q = np.array([-40, -10, 0, 8, 15, 22, 38],  dtype=float)\n",
        "fahrenheit_a = np.array([-40, 14, 32, 46, 59, 72, 100],  dtype=float)\n",
        "for i,c in enumerate (celsius_q):\n",
        "  print (\"{} degree Celsius = {} degree fahrenheit\".format(c, fahrenheit_a[i]))"
      ],
      "execution_count": 6,
      "outputs": [
        {
          "output_type": "stream",
          "text": [
            "-40.0 degree Celsius = -40.0 degree fahrenheit\n",
            "-10.0 degree Celsius = 14.0 degree fahrenheit\n",
            "0.0 degree Celsius = 32.0 degree fahrenheit\n",
            "8.0 degree Celsius = 46.0 degree fahrenheit\n",
            "15.0 degree Celsius = 59.0 degree fahrenheit\n",
            "22.0 degree Celsius = 72.0 degree fahrenheit\n",
            "38.0 degree Celsius = 100.0 degree fahrenheit\n"
          ],
          "name": "stdout"
        }
      ]
    },
    {
      "cell_type": "markdown",
      "metadata": {
        "id": "vppisvhoXmHr"
      },
      "source": [
        "Creating the model "
      ]
    },
    {
      "cell_type": "code",
      "metadata": {
        "id": "t7qH0eFRXsGV"
      },
      "source": [
        "l0 = tf.keras.layers.Dense(units=1, input_shape=[1])"
      ],
      "execution_count": 7,
      "outputs": []
    },
    {
      "cell_type": "code",
      "metadata": {
        "id": "DliNGoI_YraP"
      },
      "source": [
        "model=tf.keras.Sequential([l0])"
      ],
      "execution_count": 8,
      "outputs": []
    },
    {
      "cell_type": "code",
      "metadata": {
        "id": "3ZrU9FkSZV5W"
      },
      "source": [
        "model.compile(loss='mean_squared_error',\n",
        "                optimizer= tf.keras.optimizers.Adam(0.1))"
      ],
      "execution_count": 13,
      "outputs": []
    },
    {
      "cell_type": "code",
      "metadata": {
        "colab": {
          "base_uri": "https://localhost:8080/"
        },
        "id": "9KpXDRQbaZOX",
        "outputId": "7d04b46c-6784-4e84-9f15-c6de69a2c7fb"
      },
      "source": [
        "history = model.fit(celsius_q, fahrenheit_a, epochs=500, verbose=False)\n",
        "print(\"Model training completed\")"
      ],
      "execution_count": 14,
      "outputs": [
        {
          "output_type": "stream",
          "text": [
            "Model training completed\n"
          ],
          "name": "stdout"
        }
      ]
    },
    {
      "cell_type": "code",
      "metadata": {
        "colab": {
          "base_uri": "https://localhost:8080/",
          "height": 297
        },
        "id": "vZCYSRAHcnb6",
        "outputId": "146f3989-3ed0-4e93-f007-d3bc516fd65f"
      },
      "source": [
        "import matplotlib.pyplot as plt\n",
        "plt.xlabel('Epoch number')\n",
        "plt.ylabel('Loss Magnitude')\n",
        "plt.plot(history.history['loss'])"
      ],
      "execution_count": 16,
      "outputs": [
        {
          "output_type": "execute_result",
          "data": {
            "text/plain": [
              "[<matplotlib.lines.Line2D at 0x7f04bc411290>]"
            ]
          },
          "metadata": {
            "tags": []
          },
          "execution_count": 16
        },
        {
          "output_type": "display_data",
          "data": {
            "image/png": "[encoded data removed]",
            "text/plain": [
              "<Figure size 432x288 with 1 Axes>"
            ]
          },
          "metadata": {
            "tags": [],
            "needs_background": "light"
          }
        }
      ]
    },
    {
      "cell_type": "code",
      "metadata": {
        "colab": {
          "base_uri": "https://localhost:8080/"
        },
        "id": "UeD8lCYfd1WP",
        "outputId": "5438a7a8-e16b-433d-a727-da27e12d444d"
      },
      "source": [
        "print(model.predict([100]))"
      ],
      "execution_count": 18,
      "outputs": [
        {
          "output_type": "stream",
          "text": [
            "[[211.33841]]\n"
          ],
          "name": "stdout"
        }
      ]
    },
    {
      "cell_type": "code",
      "metadata": {
        "colab": {
          "base_uri": "https://localhost:8080/"
        },
        "id": "AAxfRmvdeg84",
        "outputId": "c56d3869-f536-485b-c6b3-ccc864d505ca"
      },
      "source": [
        "print( 'These are the layer variables: {}'.format(l0.get_weights()))"
      ],
      "execution_count": 20,
      "outputs": [
        {
          "output_type": "stream",
          "text": [
            "These are the layer variables: [array([[1.8202409]], dtype=float32), array([29.314331], dtype=float32)]\n"
          ],
          "name": "stdout"
        }
      ]
    }
  ]
}